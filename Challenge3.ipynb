{
 "cells": [
  {
   "cell_type": "code",
   "execution_count": 33,
   "metadata": {
    "collapsed": true
   },
   "outputs": [],
   "source": [
    "import random"
   ]
  },
  {
   "cell_type": "code",
   "execution_count": 4,
   "metadata": {
    "collapsed": false
   },
   "outputs": [
    {
     "name": "stdout",
     "output_type": "stream",
     "text": [
      "Your guess: 50\n",
      "Lower\n",
      "Your guess: 25\n",
      "Higher\n",
      "Your guess: 35\n",
      "Higher\n",
      "Your guess: 45\n",
      "Higher\n",
      "Your guess: 48\n",
      "Lower\n",
      "Your guess: 46\n",
      "Bingo! You made 6 attempts\n"
     ]
    }
   ],
   "source": [
    "'''\n",
    "Guess the number game.\n",
    "The computer selects a random number between 1 and 100.\n",
    "The user keeps guessing which number the computer has chosen\n",
    "until they get it right.\n",
    "The computer responds 'bingo!' or 'too high' or 'too low' after\n",
    "each guess.\n",
    "After the user has guessed the number correctly the computer output\n",
    "how many attempts it has made.\n",
    "'''\n",
    "n = random.randint(2, 99)\n",
    "attempts = 0\n",
    "while True:\n",
    "    guess = int(input(\"Your guess: \"))\n",
    "    attempts += 1\n",
    "    if guess == n:\n",
    "        print(\"Bingo! You made {} attempts\".format(attempts))\n",
    "        break\n",
    "    elif guess > n:\n",
    "        print(\"Lower\")\n",
    "    else:\n",
    "        print(\"Higher\")"
   ]
  },
  {
   "cell_type": "code",
   "execution_count": 4,
   "metadata": {
    "collapsed": false
   },
   "outputs": [
    {
     "name": "stdout",
     "output_type": "stream",
     "text": [
      "Enter number: 80\n",
      "Computers guesses  50\n",
      "How's the guess? H\n",
      "Computers guesses  75\n",
      "How's the guess? H\n",
      "Computers guesses  87\n",
      "How's the guess? L\n",
      "Computers guesses  81\n",
      "How's the guess? L\n",
      "Computers guesses  78\n",
      "How's the guess? H\n",
      "Computers guesses  79\n",
      "How's the guess? H\n",
      "Computers guesses  80\n",
      "How's the guess? B\n",
      "Bingo! Computer made 7 attempts\n"
     ]
    }
   ],
   "source": [
    "'''\n",
    "Reverse the above game. You think of a number. Get the\n",
    "computer to guess a number and you respond with too high(H),\n",
    "too low(L) or bingo!(B). Make sure the computer has a game\n",
    "plan - don't just let it guess at random!\n",
    "'''\n",
    "n = int(input(\"Enter number: \"))\n",
    "attempts = 0\n",
    "\n",
    "low = 0\n",
    "high = 100\n",
    "\n",
    "while True:\n",
    "    guess = (low + high) // 2\n",
    "    attempts += 1\n",
    "    print(\"Computers guesses \", guess)\n",
    "    respond = input(\"How's the guess? \")\n",
    "    if respond == \"B\":\n",
    "        print(\"Bingo! Computer made {} attempts\".format(attempts))\n",
    "        break\n",
    "    elif respond == \"H\":\n",
    "        low = guess\n",
    "    else:  # Low\n",
    "        high = guess"
   ]
  },
  {
   "cell_type": "code",
   "execution_count": 5,
   "metadata": {
    "collapsed": false
   },
   "outputs": [
    {
     "name": "stdout",
     "output_type": "stream",
     "text": [
      "Enter Module 1 mark: 65\n",
      "Enter Module 2 mark: 80\n",
      "Result\n",
      "Module 1: B\n",
      "Module 2: A\n",
      "Overall:A\n"
     ]
    }
   ],
   "source": [
    "'''\n",
    "Write a function that will convert a mark into a grade.\n",
    "The function will return 'A', 'B', 'C', 'D', 'E', 'S' or 'U'.\n",
    "The function will require a parameter mark.\n",
    "The formula is >=70% —> 'A', >=60% —>'B', >=55% —> 'C',\n",
    ">=50% —> 'D', >=45% —>'E', >=40% —> 'S', <40% —> 'U'.\n",
    "Assume the maximum mark is 100.\n",
    "Having written the function we want to use it three times.\n",
    "Write a program with the function that allows the user to enter\n",
    "two module marks and displays the grade. It then computes the\n",
    "average and displays the overall grade. E.g.\n",
    "\n",
    "Enter Module 1 mark: 68\n",
    "Enter Module 2 mark: 57\n",
    "Result\n",
    "Module 1: B\n",
    "Module 2: C\n",
    "Overall: B \n",
    "'''\n",
    "def mark_to_grade(mark):\n",
    "    if mark >= 70:\n",
    "        return \"A\"\n",
    "    elif mark >= 60:\n",
    "        return \"B\"\n",
    "    elif mark >= 55:\n",
    "        return \"C\"\n",
    "    elif mark >= 50:\n",
    "        return \"D\"\n",
    "    elif mark >= 45:\n",
    "        return \"E\"\n",
    "    else:\n",
    "        return \"S\"\n",
    "\n",
    "mark_1 = int(input(\"Enter Module 1 mark: \"))\n",
    "mark_2 = int(input(\"Enter Module 2 mark: \"))\n",
    "grade_1 = mark_to_grade(mark_1)\n",
    "grade_2 = mark_to_grade(mark_2)\n",
    "grade_average = mark_to_grade((mark_1 + mark_2) / 2)\n",
    "print(\"Result\\nModule 1: {}\\nModule 2: {}\\nOverall: {}\".format(grade_1, grade_2, grade_average))"
   ]
  },
  {
   "cell_type": "code",
   "execution_count": 7,
   "metadata": {
    "collapsed": false
   },
   "outputs": [
    {
     "name": "stdout",
     "output_type": "stream",
     "text": [
      "Enter Module 1 mark: 80\n",
      "Enter Module 1 max mark: 200\n",
      "Enter Module 2 mark: 80\n",
      "Enter Module 2 max mark: 100\n",
      "Result\n",
      "Module 1: S\n",
      "Module 2: A\n",
      "Overall: D\n"
     ]
    }
   ],
   "source": [
    "'''\n",
    "For the above problem, allow a maximum mark other than 100.\n",
    "This will require the user to enter both the mark and maximum possible for that module.\n",
    "The function will also require the maximum mark in order to calculate\n",
    "the grade so another parameter will be needed. \n",
    "'''\n",
    "def mark_to_grade(mark, max_mark):\n",
    "    normalised_mark = mark / max_mark * 100\n",
    "    if normalised_mark >= 70:\n",
    "        return \"A\"\n",
    "    elif normalised_mark >= 60:\n",
    "        return \"B\"\n",
    "    elif normalised_mark >= 55:\n",
    "        return \"C\"\n",
    "    elif normalised_mark >= 50:\n",
    "        return \"D\"\n",
    "    elif normalised_mark >= 45:\n",
    "        return \"E\"\n",
    "    else:\n",
    "        return \"S\"\n",
    "\n",
    "mark_1 = int(input(\"Enter Module 1 mark: \"))\n",
    "max_1 = int(input(\"Enter Module 1 max mark: \"))\n",
    "mark_2 = int(input(\"Enter Module 2 mark: \"))\n",
    "max_2 = int(input(\"Enter Module 2 max mark: \"))\n",
    "grade_1 = mark_to_grade(mark_1, max_1)\n",
    "grade_2 = mark_to_grade(mark_2, max_2)\n",
    "grade_average = mark_to_grade(mark_1 + mark_2, max_1 + max_2)\n",
    "print(\"Result\\nModule 1: {}\\nModule 2: {}\\nOverall: {}\".format(grade_1, grade_2, grade_average))"
   ]
  },
  {
   "cell_type": "code",
   "execution_count": 10,
   "metadata": {
    "collapsed": false
   },
   "outputs": [
    {
     "name": "stdout",
     "output_type": "stream",
     "text": [
      "  ***\n",
      "  ***\n",
      "   *\n",
      "  ***\n",
      "*******\n",
      "  ***\n",
      "  * *\n",
      " ** **\n"
     ]
    }
   ],
   "source": [
    "'''\n",
    "Write a procedure draw_stars that will draw a sequence of spaces followed by a sequence of stars.\n",
    "It should accept two parameters - the number of spaces and the number of stars. E.g\n",
    "\n",
    "draw_stars(3,5) would produce\n",
    "___***** ( _ indicates a space)\n",
    "\n",
    "Use your procedure to draw\n",
    "\n",
    "  ***\n",
    "  ***\n",
    "   *\n",
    "  ***\n",
    "*******\n",
    "  ***\n",
    "  * *\n",
    " ** ** \n",
    "'''\n",
    "def draw_stars(spaces, stars, end = \"\\n\"):\n",
    "    print(\" \" * spaces + \"*\" * stars, end=end)\n",
    "    \n",
    "draw_stars(2, 3)\n",
    "draw_stars(2, 3)\n",
    "draw_stars(3, 1)\n",
    "draw_stars(2, 3)\n",
    "draw_stars(0, 7)\n",
    "draw_stars(2, 3)\n",
    "draw_stars(2, 1, end=\"\")\n",
    "draw_stars(1, 1)\n",
    "draw_stars(1, 2, end=\"\")\n",
    "draw_stars(1, 2)\n"
   ]
  },
  {
   "cell_type": "code",
   "execution_count": 16,
   "metadata": {
    "collapsed": false
   },
   "outputs": [
    {
     "name": "stdout",
     "output_type": "stream",
     "text": [
      "Enter width: 9\n",
      "    *\n",
      "   ***\n",
      "  *****\n",
      " *******\n",
      "*********\n"
     ]
    }
   ],
   "source": [
    "'''\n",
    "Write a program using the above draw_stars procedure that will draw a pyramid\n",
    "whose base is a width specified by the user. E.g.\n",
    "\n",
    "Enter base: 5\n",
    "  *\n",
    " ***\n",
    "*****\n",
    "\n",
    "Assume base is an odd number. \n",
    "'''\n",
    "width = int(input(\"Enter width: \"))\n",
    "for i in range(1, width + 1, 2):\n",
    "    spaces = (width - i) // 2\n",
    "    draw_stars(spaces, i)"
   ]
  },
  {
   "cell_type": "code",
   "execution_count": 31,
   "metadata": {
    "collapsed": false
   },
   "outputs": [
    {
     "name": "stdout",
     "output_type": "stream",
     "text": [
      "Decrypt (D) or Encrypt (E)? E\n",
      "Enter sentence: abc def\n",
      "cde fgh\n",
      "\n"
     ]
    }
   ],
   "source": [
    "'''\n",
    "Write a program to perform a basic encryption and decryption on text.\n",
    "This algorithm works by moving letters along by an offset. \n",
    "If the offset is 2 then b —> d, h —> j, etc.\n",
    "Write two functions - encrypt and decrypt. Both will return a string.\n",
    "The user selects whether to encrypt or decrypt.\n",
    "The user enters sentence to encrypt and the offset.\n",
    "The program responds with the encrypted or decrypted version. \n",
    "'''\n",
    "def encrypt(sentence):\n",
    "    result = \"\"\n",
    "    for c in sentence:\n",
    "        if c.isalpha(): \n",
    "            result += chr(ord(c) + 2)\n",
    "        else:\n",
    "            result += c\n",
    "    return result\n",
    "\n",
    "def decrypt(sentence):\n",
    "    result = \"\"\n",
    "    for c in sentence:\n",
    "        if c.isalpha(): \n",
    "            result += chr(ord(c) - 2)\n",
    "        else:\n",
    "            result += c\n",
    "    return result\n",
    "\n",
    "mode = input(\"Decrypt (D) or Encrypt (E)? \")\n",
    "sentence = input(\"Enter sentence: \")\n",
    "\n",
    "if mode == \"D\":\n",
    "    print(decrypt(sentence))\n",
    "else:\n",
    "    print(encrypt(sentence))\n"
   ]
  },
  {
   "cell_type": "code",
   "execution_count": null,
   "metadata": {
    "collapsed": true
   },
   "outputs": [],
   "source": [
    "'''\n",
    "The above algorithm is actually easy to crack. A much better algorithm \n",
    "would be one that has a different offset for every letter. \n",
    "We can do this using the random number generator - because it generates \n",
    "the same sequence of random numbers from a 'seed' position. As long as\n",
    "sender and receiver agree where to 'seed' (this will be the encryption\n",
    "key) they can both work out the same offsets. \n",
    "\n",
    "Algorithm for encrypt function\n",
    "\n",
    "function Encrypt(text, key)\n",
    "  Randomize(key)\n",
    "  For each letter in text\n",
    "    Get its ascii code\n",
    "    Add random offset int(rnd()*10) to ascii code\n",
    "    Turn this new ascii code back to a character\n",
    "    Append character to ciphertext string\n",
    "  Endfor\n",
    "  return ciphertext\n",
    "end\n",
    "'''"
   ]
  },
  {
   "cell_type": "code",
   "execution_count": 48,
   "metadata": {
    "collapsed": false
   },
   "outputs": [
    {
     "name": "stdout",
     "output_type": "stream",
     "text": [
      "Decrypt (D) or Encrypt (E)? E\n",
      "Enter sentence: abc def\n",
      "Enter key: 123\n",
      "hec jlk\n"
     ]
    }
   ],
   "source": [
    "'''\n",
    "For the above task, use a single function with an extra parameter to indicate\n",
    "whether the text is being encrypted or decrypted rather than having two \n",
    "different functions.\n",
    "'''\n",
    "def cipher(text, key, mode):\n",
    "    random.seed(a=key)\n",
    "    result = \"\"\n",
    "    for letter in text:\n",
    "        if not letter.isalpha():\n",
    "            result += letter\n",
    "            continue\n",
    "\n",
    "        offset = int(random.random() * 10)\n",
    "        if mode == \"encrypt\":\n",
    "            new_letter = chr(ord(letter) + offset)\n",
    "        else:\n",
    "            new_letter = chr(ord(letter) - offset)\n",
    "        result += new_letter\n",
    "    return result\n",
    "\n",
    "mode = input(\"Decrypt (D) or Encrypt (E)? \")\n",
    "sentence = input(\"Enter sentence: \")\n",
    "key = input(\"Enter key: \")\n",
    "\n",
    "result = \"\"\n",
    "if mode == \"D\":\n",
    "    print(cipher(sentence, key, \"decrypt\"))\n",
    "else:\n",
    "    print(cipher(sentence, key, \"encrypt\"))\n"
   ]
  }
 ],
 "metadata": {
  "kernelspec": {
   "display_name": "Python 3",
   "language": "python",
   "name": "python3"
  },
  "language_info": {
   "codemirror_mode": {
    "name": "ipython",
    "version": 3
   },
   "file_extension": ".py",
   "mimetype": "text/x-python",
   "name": "python",
   "nbconvert_exporter": "python",
   "pygments_lexer": "ipython3",
   "version": "3.5.1"
  }
 },
 "nbformat": 4,
 "nbformat_minor": 2
}
