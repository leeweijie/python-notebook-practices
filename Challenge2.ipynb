{
 "cells": [
  {
   "cell_type": "code",
   "execution_count": 2,
   "metadata": {
    "collapsed": true
   },
   "outputs": [],
   "source": [
    "import random"
   ]
  },
  {
   "cell_type": "code",
   "execution_count": 10,
   "metadata": {
    "collapsed": false
   },
   "outputs": [
    {
     "name": "stdout",
     "output_type": "stream",
     "text": [
      "Starting number: 23\n",
      "How many do you want to remove? 3\n",
      "20 left\n",
      "Computer removes 3\n",
      "17 left\n",
      "How many do you want to remove? 3\n",
      "14 left\n",
      "Computer removes 1\n",
      "13 left\n",
      "How many do you want to remove? 2\n",
      "11 left\n",
      "Computer removes 1\n",
      "10 left\n",
      "How many do you want to remove? 3\n",
      "7 left\n",
      "Computer removes 1\n",
      "6 left\n",
      "How many do you want to remove? 2\n",
      "4 left\n",
      "Computer removes 1\n",
      "3 left\n",
      "How many do you want to remove? 2\n",
      "1 left\n",
      "Computer removes 1\n",
      "You win!\n"
     ]
    }
   ],
   "source": [
    "''' \n",
    "Write a program for a game where the computer generates a\n",
    "random starting number between 20 and 30.\n",
    "The player and the computer can remove 1,2 or 3 from the number\n",
    "in turns. Something like this:\n",
    "\n",
    "Starting number: 25\n",
    "How many do you want to remove? 3\n",
    "22 left\n",
    "Computer removes 2\n",
    "20 left\n",
    "...\n",
    "\n",
    "The player who has to remove the last value to bring the number\n",
    "down to 0 is the loser.\n",
    "\n",
    "1 left\n",
    "Computer removes 1\n",
    "You win!\n",
    "\n",
    "Easy: Get the computer to choose a number between 1—3 at random. \n",
    "'''\n",
    "n = random.randint(21, 29)\n",
    "print(\"Starting number:\", n)\n",
    "\n",
    "is_player_turn = True\n",
    "while n != 0:\n",
    "    if is_player_turn:\n",
    "        subtract_n = int(input(\"How many do you want to remove? \"))\n",
    "    else:\n",
    "        subtract_n = random.randint(1, 3)\n",
    "        if n == 1:\n",
    "            subtract_n = 1\n",
    "        print(\"Computer removes\", subtract_n)\n",
    "    n -= subtract_n\n",
    "    if n != 0:\n",
    "        print(n, \"left\")\n",
    "        is_player_turn = not is_player_turn\n",
    "\n",
    "if is_player_turn:\n",
    "    print(\"You lose!\")\n",
    "else:\n",
    "    print(\"You win!\")"
   ]
  },
  {
   "cell_type": "code",
   "execution_count": 12,
   "metadata": {
    "collapsed": false
   },
   "outputs": [
    {
     "name": "stdout",
     "output_type": "stream",
     "text": [
      "Starting number: 23\n",
      "How many do you want to remove? 3\n",
      "20 left\n",
      "Computer removes 3\n",
      "17 left\n",
      "How many do you want to remove? 3\n",
      "14 left\n",
      "Computer removes 3\n",
      "11 left\n",
      "How many do you want to remove? 3\n",
      "8 left\n",
      "Computer removes 2\n",
      "6 left\n",
      "How many do you want to remove? 3\n",
      "3 left\n",
      "Computer removes 2\n",
      "1 left\n",
      "How many do you want to remove? 1\n",
      "You lose!\n"
     ]
    }
   ],
   "source": [
    "''' \n",
    "Write a program for a game where the computer generates a\n",
    "random starting number between 20 and 30.\n",
    "The player and the computer can remove 1,2 or 3 from the number\n",
    "in turns. Something like this:\n",
    "\n",
    "Starting number: 25\n",
    "How many do you want to remove? 3\n",
    "22 left\n",
    "Computer removes 2\n",
    "20 left\n",
    "...\n",
    "\n",
    "The player who has to remove the last value to bring the number\n",
    "down to 0 is the loser.\n",
    "\n",
    "1 left\n",
    "Computer removes 1\n",
    "You win!\n",
    "\n",
    "Hard: Get the computer to employ a strategy to try and win. \n",
    "'''\n",
    "\n",
    "n = random.randint(21, 29)\n",
    "print(\"Starting number:\", n)\n",
    "\n",
    "is_player_turn = True\n",
    "while n != 0:\n",
    "    if is_player_turn:\n",
    "        subtract_n = int(input(\"How many do you want to remove? \"))\n",
    "    else:\n",
    "        subtract_n = random.randint(1, 3)\n",
    "        if n <= 4:\n",
    "            subtract_n = n - 1  # try to make the number 1\n",
    "        if n == 1:\n",
    "            subtract_n = 1\n",
    "        print(\"Computer removes\", subtract_n)\n",
    "    n -= subtract_n\n",
    "    if n != 0:\n",
    "        print(n, \"left\")\n",
    "        is_player_turn = not is_player_turn\n",
    "\n",
    "if is_player_turn:\n",
    "    print(\"You lose!\")\n",
    "else:\n",
    "    print(\"You win!\")"
   ]
  },
  {
   "cell_type": "code",
   "execution_count": 10,
   "metadata": {
    "collapsed": false
   },
   "outputs": [
    {
     "name": "stdout",
     "output_type": "stream",
     "text": [
      "Starting number: 4\n",
      "Higher(H) or lower(L)? H\n",
      "Next number:  12\n",
      "Higher(H) or lower(L)? L\n",
      "Next number:  10\n",
      "Higher(H) or lower(L)? L\n",
      "Next number:  3\n",
      "Higher(H) or lower(L)? H\n",
      "Next number:  8\n",
      "Higher(H) or lower(L)? L\n",
      "Next number:  7\n",
      "Higher(H) or lower(L)? H\n",
      "Next number:  8\n",
      "Higher(H) or lower(L)? L\n",
      "Next number:  2\n",
      "Higher(H) or lower(L)? H\n",
      "Next number:  10\n",
      "Higher(H) or lower(L)? L\n",
      "Next number:  4\n",
      "Higher(H) or lower(L)? H\n",
      "Next number:  10\n",
      "You win!\n"
     ]
    }
   ],
   "source": [
    "'''\n",
    "Write a program for a Higher / Lower guessing game.\n",
    "The computer randomly generates a sequence of up to 10 numbers\n",
    "between 1 and 13. The player after seeing each number in turn\n",
    "has to decide whether the next number is higher or lower.\n",
    "If you get 10 guesses right you win the game.\n",
    "\n",
    "Starting number : 12\n",
    "Higher(H) or lower(L)? L\n",
    "Next number 8\n",
    "Higher(H) or lower(L)? L\n",
    "Next number 11\n",
    "You lose\n",
    "\n",
    "Hints\n",
    "- Use a condition controlled loop (do until, while etc) to control the\n",
    "game.\n",
    "- You do not need to remember all 10 numbers, but  just the current and\n",
    "the next number.\n",
    "- Remember to keep a count of the number of guesses. \n",
    "'''\n",
    "\n",
    "n = random.randint(2, 12)\n",
    "print(\"Starting number:\", n)\n",
    "guesses = 0\n",
    "player_won = False\n",
    "while guesses < 10:\n",
    "    guess = input(\"Higher(H) or lower(L)? \")\n",
    "    new_n = random.randint(2, 12)\n",
    "    while new_n == n:\n",
    "        new_n = random.randint(2, 12)\n",
    "    print(\"Next number: \", new_n)\n",
    "    if guess == \"H\":\n",
    "        if new_n < n:\n",
    "            break\n",
    "    else:\n",
    "        if new_n > n:\n",
    "            break\n",
    "    n = new_n\n",
    "    guesses += 1\n",
    "else:\n",
    "    player_won = True\n",
    "if player_won:\n",
    "    print(\"You win!\")\n",
    "else:\n",
    "    print(\"You lose!\")"
   ]
  },
  {
   "cell_type": "code",
   "execution_count": 12,
   "metadata": {
    "collapsed": false
   },
   "outputs": [
    {
     "name": "stdout",
     "output_type": "stream",
     "text": [
      "Starting number: 10\n",
      "Higher(H) or lower(L)? h\n",
      "Higher(H) or lower(L)? H\n",
      "Next number:  3\n",
      "Lives left: 1\n",
      "Higher(H) or lower(L)? L\n",
      "Next number:  11\n",
      "Lives left: 0\n",
      "Higher(H) or lower(L)? L\n",
      "Next number:  7\n",
      "Higher(H) or lower(L)? H\n",
      "Next number:  8\n",
      "Higher(H) or lower(L)? L\n",
      "Next number:  9\n",
      "You lose!\n"
     ]
    }
   ],
   "source": [
    "'''\n",
    "Extend the above Higher / Lower number guessing game by\n",
    "- Giving the player two lives\n",
    "- Allowing only H or L to be entered \n",
    "'''\n",
    "\n",
    "n = random.randint(2, 12)\n",
    "print(\"Starting number:\", n)\n",
    "guesses = 0\n",
    "lives = 2\n",
    "\n",
    "player_won = False\n",
    "while guesses < 10:\n",
    "    guess = input(\"Higher(H) or lower(L)? \")\n",
    "    while guess != \"H\" and guess != \"L\":\n",
    "        guess = input(\"Higher(H) or lower(L)? \")\n",
    "    new_n = random.randint(2, 12)\n",
    "    while new_n == n:\n",
    "        new_n = random.randint(2, 12)\n",
    "    print(\"Next number: \", new_n)\n",
    "    if guess == \"H\":\n",
    "        if new_n < n:\n",
    "            if lives == 0:\n",
    "                break\n",
    "            else:\n",
    "                lives -= 1\n",
    "                print(\"Lives left:\", lives)\n",
    "    else:\n",
    "        if new_n > n:\n",
    "            if lives == 0:\n",
    "                break\n",
    "            else:\n",
    "                lives -= 1\n",
    "                print(\"Lives left:\", lives)\n",
    "    n = new_n\n",
    "    guesses += 1\n",
    "else:\n",
    "    player_won = True\n",
    "if player_won:\n",
    "    print(\"You win!\")\n",
    "else:\n",
    "    print(\"You lose!\")"
   ]
  },
  {
   "cell_type": "code",
   "execution_count": 16,
   "metadata": {
    "collapsed": false
   },
   "outputs": [
    {
     "name": "stdout",
     "output_type": "stream",
     "text": [
      "Enter sentence: abc def gh,if sk lk.\n",
      "There are 6 words\n"
     ]
    }
   ],
   "source": [
    "'''\n",
    "Write a program to count the number of words in a sentence.\n",
    "The user enters a sentence.\n",
    "The program outputs the number of words in the sentence.\n",
    "Hint: Look for spaces and full stops in the string. \n",
    "'''\n",
    "sentence = input(\"Enter sentence: \")\n",
    "sentence = sentence.strip(\".\")\n",
    "count = 0\n",
    "sentence = sentence.split(\" \")\n",
    "count += len(sentence)\n",
    "for s in sentence:\n",
    "    a = s.split(\",\")\n",
    "    if len(a) > 1:\n",
    "        count += len(a) - 1\n",
    "print(\"There are {} words\".format(count))"
   ]
  },
  {
   "cell_type": "code",
   "execution_count": 23,
   "metadata": {
    "collapsed": false
   },
   "outputs": [
    {
     "name": "stdout",
     "output_type": "stream",
     "text": [
      "Enter sentence: abc\n",
      "cba\n"
     ]
    }
   ],
   "source": [
    "'''\n",
    "Write a program that will display a sentence backwards after being entered.\n",
    "Note: You may not use the Python list reverse() function. ;)\n",
    "'''\n",
    "sentence = input(\"Enter sentence: \")\n",
    "r_sentence = \"\"\n",
    "for i in range(len(sentence)):\n",
    "    r_sentence = r_sentence + sentence[len(sentence) - 1 - i]\n",
    "print(r_sentence)"
   ]
  }
 ],
 "metadata": {
  "kernelspec": {
   "display_name": "Python 3",
   "language": "python",
   "name": "python3"
  },
  "language_info": {
   "codemirror_mode": {
    "name": "ipython",
    "version": 3
   },
   "file_extension": ".py",
   "mimetype": "text/x-python",
   "name": "python",
   "nbconvert_exporter": "python",
   "pygments_lexer": "ipython3",
   "version": "3.5.1"
  }
 },
 "nbformat": 4,
 "nbformat_minor": 2
}
